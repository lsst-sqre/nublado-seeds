{
 "cells": [
  {
   "cell_type": "code",
   "execution_count": null,
   "id": "bf4b0ab6-2946-444b-a208-fe8821ea353a",
   "metadata": {},
   "outputs": [],
   "source": [
    "from lsst.rsp import get_query_history\n",
    "hist=await get_query_history()\n",
    "hist"
   ]
  }
 ],
 "metadata": {
  "kernelspec": {
   "display_name": "LSST",
   "language": "python",
   "name": "lsst"
  },
  "language_info": {
   "codemirror_mode": {
    "name": "ipython",
    "version": 3
   },
   "file_extension": ".py",
   "mimetype": "text/x-python",
   "name": "python",
   "nbconvert_exporter": "python",
   "pygments_lexer": "ipython3",
   "version": "3.11.9"
  }
 },
 "nbformat": 4,
 "nbformat_minor": 5
}
