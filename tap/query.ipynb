{
 "cells": [
  {
   "cell_type": "markdown",
   "id": "da335f6d",
   "metadata": {},
   "source": [
    "### This notebook was rendered using `query_url` = {{params.query_url}}"
   ]
  },
  {
   "cell_type": "code",
   "execution_count": null,
   "id": "9cfee3f6",
   "metadata": {},
   "outputs": [],
   "source": [
    "# Set parameters for testing\n",
    "# This code cell will be replaced by Times Square\n",
    "query_url = 'https://rsp.example.com/api/tap/async/jobref_id'"
   ]
  },
  {
   "cell_type": "code",
   "execution_count": null,
   "id": "9cfee3f7",
   "metadata": {},
   "outputs": [],
   "source": [
    "from lsst.rsp import retrieve_query\n",
    "\n",
    "# First, just get the AsyncTAPJob\n",
    "query_data = retrieve_query(query_url)"
   ]
  },
  {
   "cell_type": "code",
   "execution_count": null,
   "id": "c223d99f-657f-41c3-a90f-8f4b7c656987",
   "metadata": {},
   "outputs": [],
   "source": [
    "# Get the result from the query data\n",
    "query_result = query_data.fetch_result()"
   ]
  },
  {
   "cell_type": "code",
   "execution_count": null,
   "id": "dc3babe4-66bf-4e92-97d0-0dc491d9f0b0",
   "metadata": {},
   "outputs": [],
   "source": [
    "# Convert to a Pandas dataframe\n",
    "query_df = query_result.to_table().to_pandas()"
   ]
  },
  {
   "cell_type": "code",
   "execution_count": null,
   "id": "9cfee3f9",
   "metadata": {},
   "outputs": [],
   "source": [
    "# Display a preview of the pandas DataFrame\n",
    "query_df"
   ]
  }
 ],
 "metadata": {
  "kernelspec": {
   "display_name": "LSST",
   "language": "python",
   "name": "lsst"
  },
  "language_info": {
   "codemirror_mode": {
    "name": "ipython",
    "version": 3
   },
   "file_extension": ".py",
   "mimetype": "text/x-python",
   "name": "python",
   "nbconvert_exporter": "python",
   "pygments_lexer": "ipython3",
   "version": "3.11.9"
  },
  "times-square": {
   "values": {
    "query_url": "https://data-dev.lsst.cloud/api/tap/async/r4qyb04xesh7mbz3"
   }
  }
 },
 "nbformat": 4,
 "nbformat_minor": 5
}
