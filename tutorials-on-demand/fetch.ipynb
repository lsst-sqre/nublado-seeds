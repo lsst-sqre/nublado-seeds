{
 "cells": [
  {
   "cell_type": "code",
   "execution_count": null,
   "id": "3271b4b2-ca79-41e1-b06d-c73227f0ff78",
   "metadata": {},
   "outputs": [],
   "source": [
    "# Set parameters for testing\n",
    "# This code cell will be replaced by Times Square\n",
    "path = 'DP02_01_Introduction_to_DP02'"
   ]
  },
  {
   "cell_type": "code",
   "execution_count": null,
   "id": "7783db81-5504-4f33-b648-34a6f9347bff",
   "metadata": {},
   "outputs": [],
   "source": [
    "import os\n",
    "import requests\n",
    "from base64 import b64decode\n",
    "from datetime import datetime, timezone\n",
    "from pathlib import Path\n",
    "\n",
    "# Ensure path has no slashes on either end.\n",
    "path=path.strip(\"/\")\n",
    "# Create destination if needed.\n",
    "topdir = Path(os.environ['HOME']) / \"notebooks\" / \"tutorials-on-demand\"\n",
    "nb = topdir / f\"{path}.ipynb\"\n",
    "nb.parent.mkdir(exist_ok=True)\n",
    "if nb.exists():\n",
    "    # Move extant notebook aside\n",
    "    now = datetime.datetime.now(timezone.utc).isoformat()\n",
    "    nbdir = nb.parent\n",
    "    newname = Path(path).name + \"-\" + now + \".ipynb\"\n",
    "    nb.rename(nbdir / newname)\n",
    "    \n",
    "# Retrieve content.\n",
    "\n",
    "# Owner, repo, and branch are constant in this context.\n",
    "owner = \"rubin-dp0\"\n",
    "repo = \"tutorial-notebooks\"\n",
    "branch = \"prod\"\n",
    "url = f\"https://api.github.com/repos/{owner}/{repo}/contents/{path}\"\n",
    "url += f\".ipynb?ref={branch}\"\n",
    "r=requests.get(url)\n",
    "obj=r.json()\n",
    "content_b64 = obj[\"content\"]\n",
    "# Turn that back into a UTF-8 string\n",
    "content = b64decode(content_b64).decode()\n",
    "\n",
    "# And write it into place\n",
    "nb.write_text(content)"
   ]
  }
 ],
 "metadata": {
  "kernelspec": {
   "display_name": "LSST",
   "language": "python",
   "name": "lsst"
  },
  "language_info": {
   "codemirror_mode": {
    "name": "ipython",
    "version": 3
   },
   "file_extension": ".py",
   "mimetype": "text/x-python",
   "name": "python",
   "nbconvert_exporter": "python",
   "pygments_lexer": "ipython3",
   "version": "3.11.9"
  }
 },
 "nbformat": 4,
 "nbformat_minor": 5
}
