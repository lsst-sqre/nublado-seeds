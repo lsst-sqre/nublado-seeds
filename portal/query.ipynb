{
 "cells": [
  {
   "cell_type": "markdown",
   "id": "da335f6d",
   "metadata": {},
   "source": [
    "### This notebook was rendered using `query_url` = {{params.query_url}}\n"
   ]
  },
  {
   "cell_type": "code",
   "execution_count": null,
   "id": "9cfee3f6",
   "metadata": {},
   "outputs": [],
   "source": [
    "# Set parameters for testing\n",
    "# This code cell will be replaced by Times Square\n",
    "query_url = 'https://rsp.example.com/api/tap/async/dummy_id'\n"
   ]
  },
  {
   "cell_type": "code",
   "execution_count": null,
   "id": "9cfee3f7",
   "metadata": {},
   "outputs": [],
   "source": [
    "from lsst.rsp import retrieve_query\n",
    "# First, just get the AsyncTAPJob\n",
    "query_data = retrieve_query(query_url)\n"
   ]
  },
  {
   "cell_type": "code",
   "execution_count": null,
   "id": "9cfee3f8",
   "metadata": {},
   "outputs": [],
   "source": [
    "# Now, convert that into a pandas DataFrame\n",
    "from lsst.rsp import retrieve_query\n",
    "query_df = query_data.fetch_result().to_table().to_pandas()\n"
   ]
  },
  {
   "cell_type": "code",
   "execution_count": null,
   "id": "9cfee3f9",
   "metadata": {},
   "outputs": [],
   "source": [
    "# Display a preview of the pandas DataFrame\n",
    "query_df\n"
   ]
  }
 ],
 "metadata": {
  "kernelspec": {
   "display_name": "LSST",
   "language": "python",
   "name": "lsst"
  },
  "language_info": {
   "codemirror_mode": {
    "name": "ipython",
    "version": 3
   },
   "file_extension": ".py",
   "mimetype": "text/x-python",
   "name": "python",
   "nbconvert_exporter": "python",
   "pygments_lexer": "ipython3",
   "version": "3.11.7"
  }
 },
 "nbformat": 4,
 "nbformat_minor": 5
}
